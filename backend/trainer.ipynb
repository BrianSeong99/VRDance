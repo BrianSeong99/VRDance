{
 "cells": [
  {
   "cell_type": "code",
   "execution_count": 227,
   "metadata": {},
   "outputs": [],
   "source": [
    "import json\n",
    "import torch\n",
    "from torch import nn\n",
    "from torch.utils.data import Dataset, DataLoader, random_split\n",
    "import pytorch_lightning as pl"
   ]
  },
  {
   "cell_type": "code",
   "execution_count": 228,
   "metadata": {},
   "outputs": [],
   "source": [
    "# global variable settings\n",
    "\n",
    "dataset_name = \"jm-1\"\n",
    "model_name = \"lstm_model_jm-1-3.pth\"\n",
    "filenames = [\n",
    "    'unity.json',\n",
    "    'rforearm.json',\n",
    "    'rupperarm.json',\n",
    "]"
   ]
  },
  {
   "cell_type": "code",
   "execution_count": 229,
   "metadata": {},
   "outputs": [
    {
     "name": "stdout",
     "output_type": "stream",
     "text": [
      "data loaded 3 636\n"
     ]
    }
   ],
   "source": [
    "data = []\n",
    "for i in range(len(filenames)):\n",
    "    with open(\"./processed_data/\"+dataset_name+\"/\"+filenames[i], 'r') as f:\n",
    "        data.append(json.load(f))\n",
    "\n",
    "# Load your sensor data\n",
    "bone_data = data[0]\n",
    "sensor_data1 = data[1]\n",
    "sensor_data2 = data[2]\n",
    "\n",
    "print(\"data loaded\", len(data), len(bone_data))"
   ]
  },
  {
   "cell_type": "code",
   "execution_count": 230,
   "metadata": {},
   "outputs": [],
   "source": [
    "class SensorData(Dataset):\n",
    "    def __init__(self, features1, features2, targets, sequence_length):\n",
    "        self.features1 = features1\n",
    "        self.features2 = features2\n",
    "        self.targets = targets\n",
    "        self.sequence_length = sequence_length\n",
    "\n",
    "    def __len__(self):\n",
    "        return len(self.features1) - self.sequence_length + 1\n",
    "\n",
    "    def __getitem__(self, idx):\n",
    "        start_idx = idx\n",
    "        end_idx = idx + self.sequence_length\n",
    "        return (\n",
    "            self.features1[start_idx:end_idx],\n",
    "            self.features2[start_idx:end_idx],\n",
    "            self.targets[start_idx:end_idx]\n",
    "        )"
   ]
  },
  {
   "cell_type": "code",
   "execution_count": 231,
   "metadata": {},
   "outputs": [],
   "source": [
    "class LSTMModel(pl.LightningModule):\n",
    "    def __init__(self, input_size, hidden_size, output_size, num_layers):\n",
    "        super(LSTMModel, self).__init__()\n",
    "        self.lstm1 = nn.LSTM(input_size, hidden_size, num_layers, batch_first=True)\n",
    "        self.lstm2 = nn.LSTM(input_size, hidden_size, num_layers, batch_first=True)\n",
    "        self.fc = nn.Linear(hidden_size * 2, output_size)\n",
    "        self.hidden_1 = None\n",
    "        self.hidden_2 = None\n",
    "        self.is_inference = False\n",
    "\n",
    "    def forward(self, x1, x2):\n",
    "        output1, (h1, c1) = self.lstm1(x1, self.hidden_1 if self.is_inference else None)\n",
    "        output2, (h2, c2) = self.lstm2(x2, self.hidden_2 if self.is_inference else None)\n",
    "        self.hidden_1 = (h1.detach(), c1.detach())\n",
    "        self.hidden_2 = (h2.detach(), c2.detach())\n",
    "\n",
    "        output = torch.cat((output1, output2), dim=-1)\n",
    "        output = self.fc(output)\n",
    "        return output\n",
    "\n",
    "    def training_step(self, batch, batch_idx):\n",
    "        x1, x2, y = batch\n",
    "        y_hat = self.forward(x1, x2)\n",
    "        loss = nn.MSELoss()(y_hat, y)\n",
    "        self.log('train_loss', loss)\n",
    "        return loss\n",
    "\n",
    "    def validation_step(self, batch, batch_idx):\n",
    "        x1, x2, y = batch\n",
    "        y_hat = self.forward(x1, x2)\n",
    "        val_loss = nn.MSELoss()(y_hat, y)\n",
    "        self.log('val_loss', val_loss, prog_bar=True)\n",
    "\n",
    "    def configure_optimizers(self):\n",
    "        return torch.optim.Adam(self.parameters(), lr=0.01)"
   ]
  },
  {
   "cell_type": "code",
   "execution_count": 232,
   "metadata": {},
   "outputs": [
    {
     "name": "stderr",
     "output_type": "stream",
     "text": [
      "GPU available: False, used: False\n",
      "TPU available: False, using: 0 TPU cores\n",
      "IPU available: False, using: 0 IPUs\n",
      "HPU available: False, using: 0 HPUs\n",
      "\n",
      "  | Name  | Type   | Params\n",
      "---------------------------------\n",
      "0 | lstm1 | LSTM   | 204 K \n",
      "1 | lstm2 | LSTM   | 204 K \n",
      "2 | fc    | Linear | 9.0 K \n",
      "---------------------------------\n",
      "418 K     Trainable params\n",
      "0         Non-trainable params\n",
      "418 K     Total params\n",
      "1.674     Total estimated model params size (MB)\n"
     ]
    },
    {
     "name": "stdout",
     "output_type": "stream",
     "text": [
      "LSTMModel(\n",
      "  (lstm1): LSTM(12, 128, num_layers=2, batch_first=True)\n",
      "  (lstm2): LSTM(12, 128, num_layers=2, batch_first=True)\n",
      "  (fc): Linear(in_features=256, out_features=35, bias=True)\n",
      ")\n"
     ]
    },
    {
     "data": {
      "application/vnd.jupyter.widget-view+json": {
       "model_id": "07ba43a854ff42df996086376195e2e1",
       "version_major": 2,
       "version_minor": 0
      },
      "text/plain": [
       "Sanity Checking: 0it [00:00, ?it/s]"
      ]
     },
     "metadata": {},
     "output_type": "display_data"
    },
    {
     "name": "stderr",
     "output_type": "stream",
     "text": [
      "/Users/jinwooseong/opt/miniconda3/envs/GIX/lib/python3.7/site-packages/pytorch_lightning/trainer/connectors/data_connector.py:229: PossibleUserWarning: The dataloader, val_dataloader 0, does not have many workers which may be a bottleneck. Consider increasing the value of the `num_workers` argument` (try 16 which is the number of cpus on this machine) in the `DataLoader` init to improve performance.\n",
      "  category=PossibleUserWarning,\n",
      "/Users/jinwooseong/opt/miniconda3/envs/GIX/lib/python3.7/site-packages/pytorch_lightning/trainer/connectors/data_connector.py:229: PossibleUserWarning: The dataloader, train_dataloader, does not have many workers which may be a bottleneck. Consider increasing the value of the `num_workers` argument` (try 16 which is the number of cpus on this machine) in the `DataLoader` init to improve performance.\n",
      "  category=PossibleUserWarning,\n",
      "/Users/jinwooseong/opt/miniconda3/envs/GIX/lib/python3.7/site-packages/pytorch_lightning/trainer/trainer.py:1613: PossibleUserWarning: The number of training batches (16) is smaller than the logging interval Trainer(log_every_n_steps=50). Set a lower value for log_every_n_steps if you want to see logs for the training epoch.\n",
      "  category=PossibleUserWarning,\n"
     ]
    },
    {
     "data": {
      "application/vnd.jupyter.widget-view+json": {
       "model_id": "e6e39fbde8f540c685c4e9d8b523eec4",
       "version_major": 2,
       "version_minor": 0
      },
      "text/plain": [
       "Training: 0it [00:00, ?it/s]"
      ]
     },
     "metadata": {},
     "output_type": "display_data"
    },
    {
     "data": {
      "application/vnd.jupyter.widget-view+json": {
       "model_id": "18af295b57a24e8db3f301f4e45560dc",
       "version_major": 2,
       "version_minor": 0
      },
      "text/plain": [
       "Validation: 0it [00:00, ?it/s]"
      ]
     },
     "metadata": {},
     "output_type": "display_data"
    },
    {
     "data": {
      "application/vnd.jupyter.widget-view+json": {
       "model_id": "7e71326975e74c6bb8a390ebbf0808a2",
       "version_major": 2,
       "version_minor": 0
      },
      "text/plain": [
       "Validation: 0it [00:00, ?it/s]"
      ]
     },
     "metadata": {},
     "output_type": "display_data"
    },
    {
     "data": {
      "application/vnd.jupyter.widget-view+json": {
       "model_id": "44f1363e2c604a46a9a76cb71af57c38",
       "version_major": 2,
       "version_minor": 0
      },
      "text/plain": [
       "Validation: 0it [00:00, ?it/s]"
      ]
     },
     "metadata": {},
     "output_type": "display_data"
    },
    {
     "data": {
      "application/vnd.jupyter.widget-view+json": {
       "model_id": "2c9b8a4fb7914bb78a527b05d808b67d",
       "version_major": 2,
       "version_minor": 0
      },
      "text/plain": [
       "Validation: 0it [00:00, ?it/s]"
      ]
     },
     "metadata": {},
     "output_type": "display_data"
    },
    {
     "data": {
      "application/vnd.jupyter.widget-view+json": {
       "model_id": "f38795c8f3674903bef8a2af8042ab75",
       "version_major": 2,
       "version_minor": 0
      },
      "text/plain": [
       "Validation: 0it [00:00, ?it/s]"
      ]
     },
     "metadata": {},
     "output_type": "display_data"
    },
    {
     "data": {
      "application/vnd.jupyter.widget-view+json": {
       "model_id": "af7d401be7154798ae6b3e457cc084ad",
       "version_major": 2,
       "version_minor": 0
      },
      "text/plain": [
       "Validation: 0it [00:00, ?it/s]"
      ]
     },
     "metadata": {},
     "output_type": "display_data"
    },
    {
     "data": {
      "application/vnd.jupyter.widget-view+json": {
       "model_id": "cbe6ca7e96d141658ced1f2d46f878c6",
       "version_major": 2,
       "version_minor": 0
      },
      "text/plain": [
       "Validation: 0it [00:00, ?it/s]"
      ]
     },
     "metadata": {},
     "output_type": "display_data"
    },
    {
     "data": {
      "application/vnd.jupyter.widget-view+json": {
       "model_id": "a0b5f2e01f8a40a4a4aab733a273eb76",
       "version_major": 2,
       "version_minor": 0
      },
      "text/plain": [
       "Validation: 0it [00:00, ?it/s]"
      ]
     },
     "metadata": {},
     "output_type": "display_data"
    },
    {
     "data": {
      "application/vnd.jupyter.widget-view+json": {
       "model_id": "2a4af6d828c044d5bb52ea55098718d1",
       "version_major": 2,
       "version_minor": 0
      },
      "text/plain": [
       "Validation: 0it [00:00, ?it/s]"
      ]
     },
     "metadata": {},
     "output_type": "display_data"
    },
    {
     "data": {
      "application/vnd.jupyter.widget-view+json": {
       "model_id": "2f37cffe72454d33b7606ddd0f50cf84",
       "version_major": 2,
       "version_minor": 0
      },
      "text/plain": [
       "Validation: 0it [00:00, ?it/s]"
      ]
     },
     "metadata": {},
     "output_type": "display_data"
    },
    {
     "name": "stderr",
     "output_type": "stream",
     "text": [
      "`Trainer.fit` stopped: `max_epochs=10` reached.\n"
     ]
    }
   ],
   "source": [
    "sequence_length = 12\n",
    "batch_size = 32\n",
    "epochs = 10\n",
    "\n",
    "# Define the Dataset\n",
    "data1_tensors = [torch.tensor(row) for row in sensor_data1]\n",
    "data2_tensors = [torch.tensor(row) for row in sensor_data2]\n",
    "bone_tensors = [torch.tensor(row) for row in bone_data]\n",
    "data1_tensors = torch.stack(data1_tensors, dim=0)\n",
    "data2_tensors = torch.stack(data2_tensors, dim=0)\n",
    "bone_tensors = torch.stack(bone_tensors, dim=0)\n",
    "\n",
    "dataset = SensorData(data1_tensors, data2_tensors, bone_tensors, sequence_length)\n",
    "# print(dataset.shape)\n",
    "\n",
    "# Split the dataset into training and testing sets\n",
    "train_size = int(0.8 * len(dataset))\n",
    "test_size = len(dataset) - train_size\n",
    "train_dataset, test_dataset = random_split(dataset, [train_size, test_size])\n",
    "\n",
    "# Create the dataloaders\n",
    "train_dataloader = DataLoader(train_dataset, batch_size=32, shuffle=True)\n",
    "test_dataloader = DataLoader(test_dataset, batch_size=32, shuffle=False)\n",
    "\n",
    "# Define the DataLoader\n",
    "dataloader = DataLoader(dataset, batch_size=batch_size, shuffle=True)\n",
    "\n",
    "# Define the LSTM model\n",
    "model = LSTMModel(input_size=12, hidden_size=128, output_size=35, num_layers=2)\n",
    "print(model)\n",
    "\n",
    "# Define the trainer\n",
    "trainer = pl.Trainer(max_epochs=epochs)\n",
    "\n",
    "# Train the model\n",
    "trainer.fit(model, train_dataloader, val_dataloaders=test_dataloader) #接近且小\n",
    "\n",
    "# Save the model\n",
    "torch.save(model.state_dict(), \"./models/\" + model_name)"
   ]
  },
  {
   "cell_type": "code",
   "execution_count": null,
   "metadata": {},
   "outputs": [],
   "source": []
  }
 ],
 "metadata": {
  "kernelspec": {
   "display_name": "GIX",
   "language": "python",
   "name": "python3"
  },
  "language_info": {
   "codemirror_mode": {
    "name": "ipython",
    "version": 3
   },
   "file_extension": ".py",
   "mimetype": "text/x-python",
   "name": "python",
   "nbconvert_exporter": "python",
   "pygments_lexer": "ipython3",
   "version": "3.7.13"
  },
  "orig_nbformat": 4
 },
 "nbformat": 4,
 "nbformat_minor": 2
}
